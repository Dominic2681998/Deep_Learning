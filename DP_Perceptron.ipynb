{
  "nbformat": 4,
  "nbformat_minor": 0,
  "metadata": {
    "colab": {
      "name": "DP-Perceptron.ipynb",
      "provenance": [],
      "authorship_tag": "ABX9TyMYfMFNJsD0JsxNMCbaVJ94",
      "include_colab_link": true
    },
    "kernelspec": {
      "name": "python3",
      "display_name": "Python 3"
    },
    "language_info": {
      "name": "python"
    }
  },
  "cells": [
    {
      "cell_type": "markdown",
      "metadata": {
        "id": "view-in-github",
        "colab_type": "text"
      },
      "source": [
        "<a href=\"https://colab.research.google.com/github/Dominic2681998/Deep_Learning/blob/main/DP_Perceptron.ipynb\" target=\"_parent\"><img src=\"https://colab.research.google.com/assets/colab-badge.svg\" alt=\"Open In Colab\"/></a>"
      ]
    },
    {
      "cell_type": "code",
      "execution_count": 1,
      "metadata": {
        "colab": {
          "base_uri": "https://localhost:8080/"
        },
        "id": "khFe7gGXrjtc",
        "outputId": "2796bb30-cf41-4693-a3d1-18287da73ec0"
      },
      "outputs": [
        {
          "output_type": "execute_result",
          "data": {
            "text/plain": [
              "array(['girl', 'boy'], dtype='<U4')"
            ]
          },
          "metadata": {},
          "execution_count": 1
        }
      ],
      "source": [
        "from sklearn.linear_model import Perceptron\n",
        "x=[[1,0],[1,1],[2,0]]\n",
        "y=[\"boy\",\"girl\",\"boy\"]\n",
        "ml=Perceptron()\n",
        "ml=ml.fit(x,y)\n",
        "res=ml.predict([[2,8],[0,0]])\n",
        "res"
      ]
    }
  ]
}